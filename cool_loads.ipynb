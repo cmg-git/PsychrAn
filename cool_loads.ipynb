{
 "cells": [
  {
   "cell_type": "markdown",
   "metadata": {},
   "source": [
    "# Cooling loads"
   ]
  },
  {
   "cell_type": "markdown",
   "metadata": {},
   "source": [
    "Data from *Rules of thumb* (BSRIA 2003)\n",
    "- Solar gains over floor area 150-250 W/m² of glass (Tab. 3/p 13)\n",
    "- Heat loads 50 - 100 W/m² floor area\n",
    "- U-wall 0.4 W/m²K\n",
    "- U-window 3.5 W/m²K"
   ]
  },
  {
   "cell_type": "code",
   "execution_count": 2,
   "metadata": {},
   "outputs": [
    {
     "name": "stdout",
     "output_type": "stream",
     "text": [
      "QsTZ = 39183 W \t - sensible heat load of the thermal zone\n",
      "QlTZ = 11792 W \t - latent heat load of the thermal zone\n",
      "UA = 706 W/K \t - overall heat coefficient \n",
      "mo = 0.70 kg/s \t - outdoor air infiltration mass flow rate\n",
      "Qsa = 30750 W \t - sensible auxiliary heat\n",
      "Qla = 4000 W \t - latent auxiliary heat\n",
      "m = 2.6 kg/s \t - mass flow rate of (dry) supply air\n"
     ]
    }
   ],
   "source": [
    "import psychro as psy\n",
    "# constants\n",
    "c = 1e3                     # J/kg K, air specific heat\n",
    "l = 2496e3                  # J/kg, water vapor latent heat\n",
    "ρ = 1.2                     # kg/m3, air density\n",
    "\n",
    "# Building dimensions\n",
    "length = 20                 # m\n",
    "width = 30                  # m\n",
    "height = 3.5                # m\n",
    "\n",
    "# Occupants\n",
    "persons = 100               # number\n",
    "sens_heat_person = 60       # W / person\n",
    "latent_heat_person = 40     # W / person\n",
    "\n",
    "load_m2 = 15                # W/m2, auxiliary electrical laods\n",
    "solar_m2 = 150              # W/m2 of window area, solar gains\n",
    "ACH = 1                     # room_volume/h, Air Changes per Hour\n",
    "U_wall = 0.4                # W/K, overall heat transfer coeff. walls & ceiling\n",
    "U_window = 3.5              # W/K, overall heat transfer coeff. windows\n",
    "\n",
    "# Outdoor and indoor conditions\n",
    "θo, φo = 32, 0.5            # outdoor temperature & relative humidity\n",
    "θI, φI = 26, 0.5            # indoor temperature & relative humidity\n",
    "wo = psy.w(θo, φo)\n",
    "wI = psy.w(θI, φI)\n",
    "\n",
    "# Surfaces\n",
    "floor_area = length * width\n",
    "room_volume = length * width * height\n",
    "surface_envelope = 2 * (length + width) * height\n",
    "surface_window = 0.3 * surface_envelope\n",
    "surface_wall = 0.7 * surface_envelope\n",
    "surface_exchg = surface_wall + floor_area\n",
    "\n",
    "# Overall heat coefficient\n",
    "UA = U_wall * surface_exchg + U_window * surface_window\n",
    "\n",
    "# Outdoor air infiltration mass flow rate\n",
    "mi = ACH * room_volume / 3600 * ρ\n",
    "\n",
    "# Heat gains\n",
    "solar_gains = solar_m2 * surface_window\n",
    "electrical_load = load_m2 * floor_area\n",
    "Qsa = persons * sens_heat_person + solar_gains + electrical_load\n",
    "Qla = persons * latent_heat_person\n",
    "\n",
    "# Heat loads of the thermal zone\n",
    "QsTZ = (UA + mi * c) * (θo - θI) + Qsa  # sensible\n",
    "QlTZ = mi * l * (wo - wI) + Qla         # latent\n",
    "\n",
    "# Supply (dry) air mass flow rate\n",
    "θS = θI - 15                            # °C supply air temperature\n",
    "m = QsTZ / c / ((θI - θS))\n",
    "\n",
    "print(f'QsTZ = {QsTZ:.0f} W \\t - sensible heat load of the thermal zone')\n",
    "print(f'QlTZ = {QlTZ:.0f} W \\t - latent heat load of the thermal zone')\n",
    "print(f'UA = {UA:.0f} W/K \\t - overall heat coefficient ')\n",
    "print(f'mi = {mi:.2f} kg/s \\t - outdoor air infiltration mass flow rate')\n",
    "print(f'Qsa = {Qsa:.0f} W \\t - sensible auxiliary heat')\n",
    "print(f'Qla = {Qla:.0f} W \\t - latent auxiliary heat')\n",
    "print(f'm = {m:.1f} kg/s \\t - mass flow rate of (dry) supply air')"
   ]
  },
  {
   "cell_type": "code",
   "execution_count": null,
   "metadata": {},
   "outputs": [],
   "source": []
  }
 ],
 "metadata": {
  "kernelspec": {
   "display_name": "Python 3",
   "language": "python",
   "name": "python3"
  },
  "language_info": {
   "codemirror_mode": {
    "name": "ipython",
    "version": 3
   },
   "file_extension": ".py",
   "mimetype": "text/x-python",
   "name": "python",
   "nbconvert_exporter": "python",
   "pygments_lexer": "ipython3",
   "version": "3.8.5"
  }
 },
 "nbformat": 4,
 "nbformat_minor": 4
}
