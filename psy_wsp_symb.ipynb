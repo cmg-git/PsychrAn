{
 "cells": [
  {
   "cell_type": "markdown",
   "metadata": {},
   "source": [
    "# Symbolic derivative of saturation curve"
   ]
  },
  {
   "cell_type": "code",
   "execution_count": 9,
   "metadata": {
    "jupyter": {
     "source_hidden": true
    }
   },
   "outputs": [
    {
     "name": "stdout",
     "output_type": "stream",
     "text": [
      "Humidity ratio at saturation [1]:\n"
     ]
    },
    {
     "data": {
      "text/latex": [
       "$\\displaystyle \\frac{C e^{\\frac{a θ}{b + θ}}}{- C e^{\\frac{a θ}{b + θ}} + p}$"
      ],
      "text/plain": [
       "C*exp(a*θ/(b + θ))/(-C*exp(a*θ/(b + θ)) + p)"
      ]
     },
     "execution_count": 9,
     "metadata": {},
     "output_type": "execute_result"
    }
   ],
   "source": [
    "# import numpy as np\n",
    "import sympy as sym\n",
    "\n",
    "# create a \"symbol\" called x\n",
    "a, b, C, Mv, Mda, p, x, θ = sym.symbols('a, b, C, Mv Mda p x θ')\n",
    "\n",
    "ps = C * sym.exp(a * θ / (θ + b))    # [Pa] eq (6)\n",
    "ws = ps / (p - ps)\n",
    "print('Humidity ratio at saturation [1]:')\n",
    "ws"
   ]
  },
  {
   "cell_type": "code",
   "execution_count": 10,
   "metadata": {
    "jupyter": {
     "source_hidden": true
    }
   },
   "outputs": [
    {
     "name": "stdout",
     "output_type": "stream",
     "text": [
      "Derivative of the humidity ratio at saturation\n"
     ]
    },
    {
     "data": {
      "text/latex": [
       "$\\displaystyle \\frac{C a b p e^{\\frac{a θ}{b + θ}}}{\\left(b + θ\\right)^{2} \\left(C e^{\\frac{a θ}{b + θ}} - p\\right)^{2}}$"
      ],
      "text/plain": [
       "C*a*b*p*exp(a*θ/(b + θ))/((b + θ)**2*(C*exp(a*θ/(b + θ)) - p)**2)"
      ]
     },
     "execution_count": 10,
     "metadata": {},
     "output_type": "execute_result"
    }
   ],
   "source": [
    "wsp = sym.simplify(sym.diff(ws, θ))\n",
    "print('Derivative of the humidity ratio at saturation')\n",
    "wsp"
   ]
  },
  {
   "cell_type": "markdown",
   "metadata": {},
   "source": [
    "Chain rule for derivative of composite functions:\n",
    "\n",
    "$$\\frac{dw_s}{d\\theta}=\\frac{dw_s}{dp_{vs}} \\frac{dp_{vs}}{d\\theta}$$\n",
    "\n",
    "The 1st term $\\frac{dw_s}{dp_{vs}}$ is:"
   ]
  },
  {
   "cell_type": "code",
   "execution_count": 3,
   "metadata": {
    "jupyter": {
     "source_hidden": true
    }
   },
   "outputs": [
    {
     "data": {
      "text/latex": [
       "$\\displaystyle \\frac{p}{\\left(p - s\\right)^{2}}$"
      ],
      "text/plain": [
       "p/(p - s)**2"
      ]
     },
     "execution_count": 3,
     "metadata": {},
     "output_type": "execute_result"
    }
   ],
   "source": [
    "s = sym.symbols('s')\n",
    "w = s / (p - s)\n",
    "sym.simplify(sym.diff(w, s))"
   ]
  },
  {
   "cell_type": "markdown",
   "metadata": {},
   "source": [
    "The 2nd term $\\frac{dp_{vs}}{d\\theta}$ is:"
   ]
  },
  {
   "cell_type": "code",
   "execution_count": 4,
   "metadata": {},
   "outputs": [
    {
     "data": {
      "text/latex": [
       "$\\displaystyle \\frac{C a b e^{\\frac{a θ}{b + θ}}}{\\left(b + θ\\right)^{2}}$"
      ],
      "text/plain": [
       "C*a*b*exp(a*θ/(b + θ))/(b + θ)**2"
      ]
     },
     "execution_count": 4,
     "metadata": {},
     "output_type": "execute_result"
    }
   ],
   "source": [
    "s = C * sym.exp(a * θ / (θ + b))\n",
    "sym.simplify(sym.diff(s, θ))"
   ]
  },
  {
   "cell_type": "markdown",
   "metadata": {},
   "source": [
    "where:"
   ]
  },
  {
   "cell_type": "code",
   "execution_count": 16,
   "metadata": {},
   "outputs": [
    {
     "name": "stdout",
     "output_type": "stream",
     "text": [
      "Value of constant in expression of wps: 2.502994e+06\n"
     ]
    }
   ],
   "source": [
    "a = 17.2694    # over water\n",
    "b = 273.16 - 35.86\n",
    "C = 610.78\n",
    "print(f\"Value of constant in expression of wps: {a * b * C:.6e}\")"
   ]
  },
  {
   "cell_type": "code",
   "execution_count": 11,
   "metadata": {
    "jupyter": {
     "source_hidden": true
    }
   },
   "outputs": [
    {
     "name": "stdout",
     "output_type": "stream",
     "text": [
      "Code for derivative of humidity ratio:\n",
      "C*a*b*p*exp(a*θ/(b + θ))/((b + θ)**2*(C*exp(a*θ/(b + θ)) - p)**2)\n"
     ]
    }
   ],
   "source": [
    "print(\"Code for derivative of humidity ratio:\")\n",
    "print(wsp)"
   ]
  },
  {
   "cell_type": "markdown",
   "metadata": {},
   "source": [
    "## Reference\n",
    "\n",
    "[1] Murray, F., 1967. On the Computation of Saturation Vapor Pressure. Journal of Applied Meteorology, Volume 6, pp. 203-204."
   ]
  },
  {
   "cell_type": "code",
   "execution_count": null,
   "metadata": {
    "jupyter": {
     "source_hidden": true
    }
   },
   "outputs": [],
   "source": []
  }
 ],
 "metadata": {
  "kernelspec": {
   "display_name": "Python 3",
   "language": "python",
   "name": "python3"
  },
  "language_info": {
   "codemirror_mode": {
    "name": "ipython",
    "version": 3
   },
   "file_extension": ".py",
   "mimetype": "text/x-python",
   "name": "python",
   "nbconvert_exporter": "python",
   "pygments_lexer": "ipython3",
   "version": "3.8.5"
  }
 },
 "nbformat": 4,
 "nbformat_minor": 4
}
